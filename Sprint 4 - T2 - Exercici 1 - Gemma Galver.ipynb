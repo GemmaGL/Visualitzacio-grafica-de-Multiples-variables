{
 "cells": [
  {
   "cell_type": "markdown",
   "id": "131165fa",
   "metadata": {},
   "source": [
    "# Sprint 4\n",
    "\n",
    "### Exercici 1\n",
    "\n",
    "Realitza la pràctica del notebook a GitHub \"03 EXAMINING DATA\" (fes una còpia i executa els comandaments amb el mateix dataset county.txt). Aquest exercici consisteix a observar les diferents possibilitats que ofereixen les diferents llibreries de visualització gràfica."
   ]
  },
  {
   "cell_type": "markdown",
   "id": "d8349aa1",
   "metadata": {},
   "source": [
    "Primer de tot obrirem el dataset county.txt"
   ]
  },
  {
   "cell_type": "code",
   "execution_count": 1,
   "id": "4e1d11d4",
   "metadata": {},
   "outputs": [],
   "source": [
    "import pandas as pd\n",
    "import numpy as np\n",
    "import matplotlib.pyplot as plt\n",
    "import seaborn as sns\n",
    "%matplotlib inline\n",
    "\n",
    "#esta última permite incrustar gráficos en jupyter notebooks."
   ]
  },
  {
   "cell_type": "code",
   "execution_count": 2,
   "id": "b187ff52",
   "metadata": {},
   "outputs": [
    {
     "data": {
      "text/html": [
       "<div>\n",
       "<style scoped>\n",
       "    .dataframe tbody tr th:only-of-type {\n",
       "        vertical-align: middle;\n",
       "    }\n",
       "\n",
       "    .dataframe tbody tr th {\n",
       "        vertical-align: top;\n",
       "    }\n",
       "\n",
       "    .dataframe thead th {\n",
       "        text-align: right;\n",
       "    }\n",
       "</style>\n",
       "<table border=\"1\" class=\"dataframe\">\n",
       "  <thead>\n",
       "    <tr style=\"text-align: right;\">\n",
       "      <th></th>\n",
       "      <th>state</th>\n",
       "      <th>pop2000</th>\n",
       "      <th>pop2010</th>\n",
       "      <th>fed_spend</th>\n",
       "      <th>poverty</th>\n",
       "      <th>homeownership</th>\n",
       "      <th>multiunit</th>\n",
       "      <th>income</th>\n",
       "      <th>med_income</th>\n",
       "    </tr>\n",
       "    <tr>\n",
       "      <th>name</th>\n",
       "      <th></th>\n",
       "      <th></th>\n",
       "      <th></th>\n",
       "      <th></th>\n",
       "      <th></th>\n",
       "      <th></th>\n",
       "      <th></th>\n",
       "      <th></th>\n",
       "      <th></th>\n",
       "    </tr>\n",
       "  </thead>\n",
       "  <tbody>\n",
       "    <tr>\n",
       "      <th>Autauga County</th>\n",
       "      <td>Alabama</td>\n",
       "      <td>43671.0</td>\n",
       "      <td>54571</td>\n",
       "      <td>6.068095</td>\n",
       "      <td>10.6</td>\n",
       "      <td>77.5</td>\n",
       "      <td>7.2</td>\n",
       "      <td>24568</td>\n",
       "      <td>53255</td>\n",
       "    </tr>\n",
       "    <tr>\n",
       "      <th>Baldwin County</th>\n",
       "      <td>Alabama</td>\n",
       "      <td>140415.0</td>\n",
       "      <td>182265</td>\n",
       "      <td>6.139862</td>\n",
       "      <td>12.2</td>\n",
       "      <td>76.7</td>\n",
       "      <td>22.6</td>\n",
       "      <td>26469</td>\n",
       "      <td>50147</td>\n",
       "    </tr>\n",
       "    <tr>\n",
       "      <th>Barbour County</th>\n",
       "      <td>Alabama</td>\n",
       "      <td>29038.0</td>\n",
       "      <td>27457</td>\n",
       "      <td>8.752158</td>\n",
       "      <td>25.0</td>\n",
       "      <td>68.0</td>\n",
       "      <td>11.1</td>\n",
       "      <td>15875</td>\n",
       "      <td>33219</td>\n",
       "    </tr>\n",
       "    <tr>\n",
       "      <th>Bibb County</th>\n",
       "      <td>Alabama</td>\n",
       "      <td>20826.0</td>\n",
       "      <td>22915</td>\n",
       "      <td>7.122016</td>\n",
       "      <td>12.6</td>\n",
       "      <td>82.9</td>\n",
       "      <td>6.6</td>\n",
       "      <td>19918</td>\n",
       "      <td>41770</td>\n",
       "    </tr>\n",
       "    <tr>\n",
       "      <th>Blount County</th>\n",
       "      <td>Alabama</td>\n",
       "      <td>51024.0</td>\n",
       "      <td>57322</td>\n",
       "      <td>5.130910</td>\n",
       "      <td>13.4</td>\n",
       "      <td>82.0</td>\n",
       "      <td>3.7</td>\n",
       "      <td>21070</td>\n",
       "      <td>45549</td>\n",
       "    </tr>\n",
       "    <tr>\n",
       "      <th>...</th>\n",
       "      <td>...</td>\n",
       "      <td>...</td>\n",
       "      <td>...</td>\n",
       "      <td>...</td>\n",
       "      <td>...</td>\n",
       "      <td>...</td>\n",
       "      <td>...</td>\n",
       "      <td>...</td>\n",
       "      <td>...</td>\n",
       "    </tr>\n",
       "    <tr>\n",
       "      <th>Sweetwater County</th>\n",
       "      <td>Wyoming</td>\n",
       "      <td>37613.0</td>\n",
       "      <td>43806</td>\n",
       "      <td>5.062138</td>\n",
       "      <td>8.2</td>\n",
       "      <td>73.7</td>\n",
       "      <td>14.6</td>\n",
       "      <td>30961</td>\n",
       "      <td>69828</td>\n",
       "    </tr>\n",
       "    <tr>\n",
       "      <th>Teton County</th>\n",
       "      <td>Wyoming</td>\n",
       "      <td>18251.0</td>\n",
       "      <td>21294</td>\n",
       "      <td>6.236968</td>\n",
       "      <td>8.2</td>\n",
       "      <td>60.8</td>\n",
       "      <td>31.9</td>\n",
       "      <td>42224</td>\n",
       "      <td>70271</td>\n",
       "    </tr>\n",
       "    <tr>\n",
       "      <th>Uinta County</th>\n",
       "      <td>Wyoming</td>\n",
       "      <td>19742.0</td>\n",
       "      <td>21118</td>\n",
       "      <td>4.549105</td>\n",
       "      <td>12.1</td>\n",
       "      <td>73.7</td>\n",
       "      <td>17.0</td>\n",
       "      <td>24460</td>\n",
       "      <td>58346</td>\n",
       "    </tr>\n",
       "    <tr>\n",
       "      <th>Washakie County</th>\n",
       "      <td>Wyoming</td>\n",
       "      <td>8289.0</td>\n",
       "      <td>8533</td>\n",
       "      <td>8.713817</td>\n",
       "      <td>5.6</td>\n",
       "      <td>70.9</td>\n",
       "      <td>10.0</td>\n",
       "      <td>28557</td>\n",
       "      <td>48379</td>\n",
       "    </tr>\n",
       "    <tr>\n",
       "      <th>Weston County</th>\n",
       "      <td>Wyoming</td>\n",
       "      <td>6644.0</td>\n",
       "      <td>7208</td>\n",
       "      <td>6.694784</td>\n",
       "      <td>7.9</td>\n",
       "      <td>77.9</td>\n",
       "      <td>6.5</td>\n",
       "      <td>28463</td>\n",
       "      <td>53853</td>\n",
       "    </tr>\n",
       "  </tbody>\n",
       "</table>\n",
       "<p>3143 rows × 9 columns</p>\n",
       "</div>"
      ],
      "text/plain": [
       "                     state   pop2000  pop2010  fed_spend  poverty  \\\n",
       "name                                                                \n",
       "Autauga County     Alabama   43671.0    54571   6.068095     10.6   \n",
       "Baldwin County     Alabama  140415.0   182265   6.139862     12.2   \n",
       "Barbour County     Alabama   29038.0    27457   8.752158     25.0   \n",
       "Bibb County        Alabama   20826.0    22915   7.122016     12.6   \n",
       "Blount County      Alabama   51024.0    57322   5.130910     13.4   \n",
       "...                    ...       ...      ...        ...      ...   \n",
       "Sweetwater County  Wyoming   37613.0    43806   5.062138      8.2   \n",
       "Teton County       Wyoming   18251.0    21294   6.236968      8.2   \n",
       "Uinta County       Wyoming   19742.0    21118   4.549105     12.1   \n",
       "Washakie County    Wyoming    8289.0     8533   8.713817      5.6   \n",
       "Weston County      Wyoming    6644.0     7208   6.694784      7.9   \n",
       "\n",
       "                   homeownership  multiunit  income  med_income  \n",
       "name                                                             \n",
       "Autauga County              77.5        7.2   24568       53255  \n",
       "Baldwin County              76.7       22.6   26469       50147  \n",
       "Barbour County              68.0       11.1   15875       33219  \n",
       "Bibb County                 82.9        6.6   19918       41770  \n",
       "Blount County               82.0        3.7   21070       45549  \n",
       "...                          ...        ...     ...         ...  \n",
       "Sweetwater County           73.7       14.6   30961       69828  \n",
       "Teton County                60.8       31.9   42224       70271  \n",
       "Uinta County                73.7       17.0   24460       58346  \n",
       "Washakie County             70.9       10.0   28557       48379  \n",
       "Weston County               77.9        6.5   28463       53853  \n",
       "\n",
       "[3143 rows x 9 columns]"
      ]
     },
     "execution_count": 2,
     "metadata": {},
     "output_type": "execute_result"
    }
   ],
   "source": [
    "#ruta_arxiu = \"C:\\Users\\gemma\\OneDrive\\Escritorio\\It Academy Tasks\\SP 4 T2\\county.txt\"\n",
    "#Per tal de que funcioni li hem d'afegir un altre barra a cada part de l'adreça\n",
    "\n",
    "ruta_arxiu = \"C:\\\\Users\\\\gemma\\\\OneDrive\\\\Escritorio\\\\It Academy Tasks\\\\SP 4 T2\\\\county.txt\"\n",
    "county = pd.read_csv(ruta_arxiu, sep='\\t',index_col=0)\n",
    "county\n"
   ]
  },
  {
   "cell_type": "code",
   "execution_count": 3,
   "id": "d487dd55",
   "metadata": {},
   "outputs": [
    {
     "data": {
      "text/plain": [
       "(3143, 9)"
      ]
     },
     "execution_count": 3,
     "metadata": {},
     "output_type": "execute_result"
    }
   ],
   "source": [
    "county.shape"
   ]
  },
  {
   "cell_type": "markdown",
   "id": "7e9ef952",
   "metadata": {},
   "source": [
    "Aquest dataframe consta de 3143 registres i 9 columnes."
   ]
  },
  {
   "cell_type": "code",
   "execution_count": 4,
   "id": "02dd3eba",
   "metadata": {},
   "outputs": [
    {
     "data": {
      "text/plain": [
       "Index(['state', 'pop2000', 'pop2010', 'fed_spend', 'poverty', 'homeownership',\n",
       "       'multiunit', 'income', 'med_income'],\n",
       "      dtype='object')"
      ]
     },
     "execution_count": 4,
     "metadata": {},
     "output_type": "execute_result"
    }
   ],
   "source": [
    "county.columns"
   ]
  },
  {
   "cell_type": "markdown",
   "id": "257aa5ae",
   "metadata": {},
   "source": [
    "Aquests són els noms de les 9 columnes."
   ]
  },
  {
   "cell_type": "code",
   "execution_count": 5,
   "id": "91cb2c91",
   "metadata": {},
   "outputs": [
    {
     "data": {
      "text/plain": [
       "array(['Alabama', 'Alaska', 'Arizona', 'Arkansas', 'California',\n",
       "       'Colorado', 'Connecticut', 'Delaware', 'District of Columbia',\n",
       "       'Florida', 'Georgia', 'Hawaii', 'Idaho', 'Illinois', 'Indiana',\n",
       "       'Iowa', 'Kansas', 'Kentucky', 'Louisiana', 'Maine', 'Maryland',\n",
       "       'Massachusetts', 'Michigan', 'Minnesota', 'Mississippi',\n",
       "       'Missouri', 'Montana', 'Nebraska', 'Nevada', 'New Hampshire',\n",
       "       'New Jersey', 'New Mexico', 'New York', 'North Carolina',\n",
       "       'North Dakota', 'Ohio', 'Oklahoma', 'Oregon', 'Pennsylvania',\n",
       "       'Rhode Island', 'South Carolina', 'South Dakota', 'Tennessee',\n",
       "       'Texas', 'Utah', 'Vermont', 'Virginia', 'Washington',\n",
       "       'West Virginia', 'Wisconsin', 'Wyoming'], dtype=object)"
      ]
     },
     "execution_count": 5,
     "metadata": {},
     "output_type": "execute_result"
    }
   ],
   "source": [
    "#Serveix per saber el total de valors únics\n",
    "county.state.unique()\n"
   ]
  },
  {
   "cell_type": "code",
   "execution_count": 6,
   "id": "ca396436",
   "metadata": {},
   "outputs": [
    {
     "data": {
      "text/plain": [
       "51"
      ]
     },
     "execution_count": 6,
     "metadata": {},
     "output_type": "execute_result"
    }
   ],
   "source": [
    "#Serveix per saber el número de valors únics\n",
    "county.state.nunique()"
   ]
  },
  {
   "cell_type": "markdown",
   "id": "4d0c3b38",
   "metadata": {},
   "source": [
    "Amb aquests dos mètodes hem pogut saber que hi ha 51 estats diferents i quins son."
   ]
  },
  {
   "cell_type": "code",
   "execution_count": 7,
   "id": "daa9c8ad",
   "metadata": {},
   "outputs": [
    {
     "data": {
      "text/html": [
       "<div>\n",
       "<style scoped>\n",
       "    .dataframe tbody tr th:only-of-type {\n",
       "        vertical-align: middle;\n",
       "    }\n",
       "\n",
       "    .dataframe tbody tr th {\n",
       "        vertical-align: top;\n",
       "    }\n",
       "\n",
       "    .dataframe thead th {\n",
       "        text-align: right;\n",
       "    }\n",
       "</style>\n",
       "<table border=\"1\" class=\"dataframe\">\n",
       "  <thead>\n",
       "    <tr style=\"text-align: right;\">\n",
       "      <th></th>\n",
       "      <th>pop2000</th>\n",
       "      <th>pop2010</th>\n",
       "      <th>fed_spend</th>\n",
       "      <th>poverty</th>\n",
       "      <th>homeownership</th>\n",
       "      <th>multiunit</th>\n",
       "      <th>income</th>\n",
       "      <th>med_income</th>\n",
       "    </tr>\n",
       "  </thead>\n",
       "  <tbody>\n",
       "    <tr>\n",
       "      <th>count</th>\n",
       "      <td>3140.000</td>\n",
       "      <td>3143.000</td>\n",
       "      <td>3139.000</td>\n",
       "      <td>3143.000</td>\n",
       "      <td>3143.000</td>\n",
       "      <td>3143.000</td>\n",
       "      <td>3143.000</td>\n",
       "      <td>3143.000</td>\n",
       "    </tr>\n",
       "    <tr>\n",
       "      <th>mean</th>\n",
       "      <td>89623.445</td>\n",
       "      <td>98232.752</td>\n",
       "      <td>9.991</td>\n",
       "      <td>15.499</td>\n",
       "      <td>73.264</td>\n",
       "      <td>12.325</td>\n",
       "      <td>22504.696</td>\n",
       "      <td>44270.299</td>\n",
       "    </tr>\n",
       "    <tr>\n",
       "      <th>std</th>\n",
       "      <td>292504.848</td>\n",
       "      <td>312901.202</td>\n",
       "      <td>7.567</td>\n",
       "      <td>6.384</td>\n",
       "      <td>7.832</td>\n",
       "      <td>9.291</td>\n",
       "      <td>5408.668</td>\n",
       "      <td>11547.636</td>\n",
       "    </tr>\n",
       "    <tr>\n",
       "      <th>min</th>\n",
       "      <td>67.000</td>\n",
       "      <td>82.000</td>\n",
       "      <td>0.000</td>\n",
       "      <td>0.000</td>\n",
       "      <td>0.000</td>\n",
       "      <td>0.000</td>\n",
       "      <td>7772.000</td>\n",
       "      <td>19351.000</td>\n",
       "    </tr>\n",
       "    <tr>\n",
       "      <th>25%</th>\n",
       "      <td>11209.750</td>\n",
       "      <td>11104.500</td>\n",
       "      <td>6.964</td>\n",
       "      <td>11.000</td>\n",
       "      <td>69.500</td>\n",
       "      <td>6.100</td>\n",
       "      <td>19030.000</td>\n",
       "      <td>36952.000</td>\n",
       "    </tr>\n",
       "    <tr>\n",
       "      <th>50%</th>\n",
       "      <td>24608.000</td>\n",
       "      <td>25857.000</td>\n",
       "      <td>8.669</td>\n",
       "      <td>14.700</td>\n",
       "      <td>74.600</td>\n",
       "      <td>9.700</td>\n",
       "      <td>21773.000</td>\n",
       "      <td>42445.000</td>\n",
       "    </tr>\n",
       "    <tr>\n",
       "      <th>75%</th>\n",
       "      <td>61766.500</td>\n",
       "      <td>66699.000</td>\n",
       "      <td>10.857</td>\n",
       "      <td>19.000</td>\n",
       "      <td>78.400</td>\n",
       "      <td>15.900</td>\n",
       "      <td>24813.500</td>\n",
       "      <td>49142.000</td>\n",
       "    </tr>\n",
       "    <tr>\n",
       "      <th>max</th>\n",
       "      <td>9519338.000</td>\n",
       "      <td>9818605.000</td>\n",
       "      <td>204.616</td>\n",
       "      <td>53.500</td>\n",
       "      <td>91.300</td>\n",
       "      <td>98.500</td>\n",
       "      <td>64381.000</td>\n",
       "      <td>115574.000</td>\n",
       "    </tr>\n",
       "  </tbody>\n",
       "</table>\n",
       "</div>"
      ],
      "text/plain": [
       "           pop2000      pop2010  fed_spend   poverty  homeownership  \\\n",
       "count     3140.000     3143.000   3139.000  3143.000       3143.000   \n",
       "mean     89623.445    98232.752      9.991    15.499         73.264   \n",
       "std     292504.848   312901.202      7.567     6.384          7.832   \n",
       "min         67.000       82.000      0.000     0.000          0.000   \n",
       "25%      11209.750    11104.500      6.964    11.000         69.500   \n",
       "50%      24608.000    25857.000      8.669    14.700         74.600   \n",
       "75%      61766.500    66699.000     10.857    19.000         78.400   \n",
       "max    9519338.000  9818605.000    204.616    53.500         91.300   \n",
       "\n",
       "       multiunit     income  med_income  \n",
       "count   3143.000   3143.000    3143.000  \n",
       "mean      12.325  22504.696   44270.299  \n",
       "std        9.291   5408.668   11547.636  \n",
       "min        0.000   7772.000   19351.000  \n",
       "25%        6.100  19030.000   36952.000  \n",
       "50%        9.700  21773.000   42445.000  \n",
       "75%       15.900  24813.500   49142.000  \n",
       "max       98.500  64381.000  115574.000  "
      ]
     },
     "execution_count": 7,
     "metadata": {},
     "output_type": "execute_result"
    }
   ],
   "source": [
    "county.describe().round(3)"
   ]
  },
  {
   "cell_type": "markdown",
   "id": "3d91ee05",
   "metadata": {},
   "source": [
    "El mètode \".describe\" permet tenir les estadístique més bàsiques de cada columna. Tals com enl número de registres, la mitja, la desviació estàndard, el mínim, el màxim i els quartils. "
   ]
  },
  {
   "cell_type": "code",
   "execution_count": 8,
   "id": "bba4d2a5",
   "metadata": {},
   "outputs": [
    {
     "data": {
      "text/plain": [
       "89623.44490445859"
      ]
     },
     "execution_count": 8,
     "metadata": {},
     "output_type": "execute_result"
    }
   ],
   "source": [
    "# Li hem demanat només la mitja de la columna \"pop2000\"\n",
    "county.pop2000.mean()"
   ]
  },
  {
   "cell_type": "code",
   "execution_count": 9,
   "id": "7a531574",
   "metadata": {},
   "outputs": [
    {
     "data": {
      "image/png": "[encoded data removed]",
      "text/plain": [
       "<Figure size 640x480 with 1 Axes>"
      ]
     },
     "metadata": {},
     "output_type": "display_data"
    }
   ],
   "source": [
    "x = county.fed_spend\n",
    "y = county.poverty\n",
    "colors = 'Blue'\n",
    "area = np.pi*5 #no entenc gaire el sentit d'aquesta variable. He fet la prova sense ella i dona els mateixos resultats.\n",
    "\n",
    "plt.axis([-10, 100, 0, 60])\n",
    "\n",
    "plt.scatter(x, y, s=area, c=colors, alpha=0.4, edgecolors='black')\n",
    "\n",
    "plt.title('Federal Spending vs Poverty by County')\n",
    "plt.ylabel('Federal Spending per Capita')\n",
    "plt.xlabel('Poverty Rate (Percent)')\n",
    "plt.show()"
   ]
  }
 ],
 "metadata": {
  "kernelspec": {
   "display_name": "Python 3 (ipykernel)",
   "language": "python",
   "name": "python3"
  },
  "language_info": {
   "codemirror_mode": {
    "name": "ipython",
    "version": 3
   },
   "file_extension": ".py",
   "mimetype": "text/x-python",
   "name": "python",
   "nbconvert_exporter": "python",
   "pygments_lexer": "ipython3",
   "version": "3.9.13"
  }
 },
 "nbformat": 4,
 "nbformat_minor": 5
}
